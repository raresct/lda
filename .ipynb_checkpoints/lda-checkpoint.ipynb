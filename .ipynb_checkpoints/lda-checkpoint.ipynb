{
 "metadata": {
  "name": "",
  "signature": "sha256:4cd9c2afcb5d64f0442d17f6ea5000cfe0b31403d2c1f195177cf4ffb08be612"
 },
 "nbformat": 3,
 "nbformat_minor": 0,
 "worksheets": [
  {
   "cells": [
    {
     "cell_type": "code",
     "collapsed": false,
     "input": [
      "# Utils\n",
      "\n",
      "from IPython.display import Image"
     ],
     "language": "python",
     "metadata": {},
     "outputs": [],
     "prompt_number": 2
    },
    {
     "cell_type": "markdown",
     "metadata": {},
     "source": [
      "<h1 align=center> Tutorial Derivation: Gibbs Sampling for Latent Dirichlet Allocation</h1>\n",
      "\n",
      "## Introduction\n",
      "\n",
      "This notebook describes in painful detail the Gibbs sampling algorithm for Latent Dirichlet Allocation. It is based on \"Finding scientific topics\", the PNAS paper by Griffiths and Steyvers ( [link](http://psiexp.ss.uci.edu/research/papers/sciencetopics.pdf) ), and not the original paper by Blei et al.\n",
      "\n",
      "## Probabilistic Model and Generative Story\n",
      "\n",
      "We assume the following generative story for document creation: \n",
      "\n",
      "A number of $D$ documents are generated independently. There are a number of $T$ topics that characterize the documents. There are $W$ unique words in the documents. Each document has a length of $L_d$ words.\n",
      "\n",
      "\n",
      "\n",
      "Each document $d$ has a topic distribution $\\theta_d$, a categorical distribution with $T$ categories (and there are $D$ such distributions).\n",
      "\n",
      "Each topic $t$ has a word distribution $\\phi_t$, a categorical distribution with $W$ categories (and there are $T$ such distributions).\n",
      "\n",
      "To generate a document, we generate each word independently. For each document $d$ and word position $l$, a topic corresponding to that position is sampled from the topic distribution:\n",
      "\n",
      "$P(z_{dl} = t) = \\theta_d(t)$\n",
      "\n",
      "According to the sampled topic, the word is generated according to:\n",
      "\n",
      "$P(w_{dl} = w) = \\phi_{z_{dl}}(w)$\n",
      "\n",
      "We place Dirichlet conjugate priors on $\\theta$:\n",
      "\n",
      "$\\theta \\sim Dirichlet(\\alpha)$ \n",
      "\n",
      "and $\\phi$: \n",
      "\n",
      "$\\phi \\sim Dirichlet(\\beta)$.\n",
      "\n",
      "Furthermore, to simplify things, we assume $\\alpha$ and $\\beta$ are symmetric priors, and in experiments we initalize them to $1$.\n",
      "\n",
      "The probabilistic model in plate model notation is illustrated below:"
     ]
    },
    {
     "cell_type": "code",
     "collapsed": false,
     "input": [
      "lda_pm = Image(filename='images/lda_pm.png')\n",
      "lda_pm"
     ],
     "language": "python",
     "metadata": {},
     "outputs": [
      {
       "metadata": {},
       "output_type": "pyout",
       "png": "[encoded data removed]",
       "prompt_number": 3,
       "text": [
        "<IPython.core.display.Image at 0x7fa474146ed0>"
       ]
      }
     ],
     "prompt_number": 3
    },
    {
     "cell_type": "markdown",
     "metadata": {},
     "source": [
      "The joint distribution is:\n",
      "\n",
      "$P(w,z, \\theta, \\phi ; \\alpha, \\beta) = P(\\theta ; \\alpha) P(z | \\theta) P(\\phi ; \\beta) P(w | z,\\phi)$\n",
      "\n",
      "\n",
      "## Integrating out $\\theta$ and $\\phi$\n",
      "\n",
      "\\begin{align*}\n",
      "P(w,z ; \\alpha, \\beta) &= P(\\theta ; \\alpha) P(z | \\theta) P(\\phi ; \\beta) P(w | z,\\phi)\\\\\n",
      "&= \\int_{\\phi} \\int_{\\theta} P(\\theta ; \\alpha) P(z | \\theta) P(\\phi ; \\beta) P(w | z,\\phi)\\\\\n",
      "&= \\int_{\\phi} P(\\phi ; \\beta) P(w | z,\\phi) \\int_{\\theta} P(\\theta ; \\alpha) P(z | \\theta)\\\\\n",
      "&= f_1 f_2\n",
      "\\end{align*}\n",
      "\n",
      "\\begin{align*}\n",
      "f_1 &= \\int_{\\phi} (\\prod_t P(\\phi_t ; \\beta)) (\\prod_d \\prod_l P(w_{dl} | z_{dl}, \\phi))\\\\\n",
      "&= \\int_{\\phi} \\prod_t (\\frac{\\Gamma(\\beta W)}{\\prod_w \\Gamma(\\beta)} \\prod_w \\phi_t(w)^{\\beta-1})\\prod_d \\prod_l \\phi_{z_{dl}}(w_{dl})\\\\\n",
      "&= k_1 \\int_{\\phi}  \\prod_t \\prod_w  \\phi_t(w)^{\\beta-1} \\prod_t \\prod_w \\phi_t(w)^{n(w,t)}\\\\\n",
      "&= k_1 \\int_{\\phi}  \\prod_t \\prod_w  \\phi_t(w)^{n(w,t)+\\beta-1}\\\\\n",
      "&= k_1 \\prod_t \\int_{\\phi_t} \\prod_w  \\phi_t(w)^{n(w,t)+\\beta-1}\\\\\n",
      "&= k_1 \\prod_t \\frac{\\prod_w \\Gamma(n(w,t)+\\beta)}{\\Gamma(\\sum_w (n(w,t)+\\beta))}\\\\\n",
      "&= k_1 \\prod_t \\frac{\\prod_w \\Gamma(n(w,t)+\\beta)}{\\Gamma(n(t)+\\beta W)}\n",
      "\\end{align*}\n",
      "\n",
      "Where:\n",
      "\n",
      "$k_1 = \\left(\\frac{\\Gamma(\\beta W)}{\\Gamma(\\beta)^W}\\right)^T$ \n",
      "\n",
      "$n(w,t)$ is the number of times word $w$ has been assigned to topic $t$ in all documents\n",
      "\n",
      "and\n",
      "\n",
      "$n(t)$ is the number of words assigned to topic $t$ in all documents."
     ]
    },
    {
     "cell_type": "markdown",
     "metadata": {},
     "source": [
      "The exact same steps can be applied to compute $f_2$ as:\n",
      "\n",
      "$$ f_2 =  k_2 \\prod_d \\frac{\\prod_t \\Gamma(n(d,t)+\\alpha)}{\\Gamma(n(d)+\\alpha T)} $$\n",
      "\n",
      "Where:\n",
      "\n",
      "$k_2 = \\left(\\frac{\\Gamma(\\alpha T)}{\\Gamma(\\alpha)^T}\\right)^D$ \n",
      "\n",
      "$n(d,t)$ is the number of times a word from document $d$ has been assigned to topic $t$\n",
      "\n",
      "and\n",
      "\n",
      "$n(d)$ is the number of words in document $d$, i.e. $L_d$ from the plate notation."
     ]
    },
    {
     "cell_type": "markdown",
     "metadata": {},
     "source": [
      "## Gibbs sampling\n",
      "\n",
      "$$f_1 = P(w|z)$$\n",
      "$$f_2 = P(z)$$\n",
      "\n",
      "The goal of the sampling procedure is to estimate $\\phi$ and $\\theta$. $\\phi$ informs us what the topics might be, $\\theta$ tells us how important each topic is in a document. But we have just integrated them out! Instead of sampling the values directly, we will estimate them based on sampling $P(z|w)$.\n",
      "\n",
      "$P(z|w) \\varpropto P(w|z)P(z)$\n",
      "\n",
      "Concretely, we update:\n",
      "\n",
      "$$P(z_{ij}=k | z_{-ij}, w)$$\n",
      "\n",
      "Where $i$ is a document index, $j$ is a position in document $i$, and $k$ is a topic. $z_{ij}$ is the topic of word $w_{ij}$. All the other assignments $z_{-ij}$ are assumed to be known.\n",
      "\n",
      "$$P(z_{ij}=k | z_{-ij}, w) =  \\frac{P(z_{ij}=k, z_{-ij}, w)}{P(z_{-ij}, w)} = \\frac{f_1}{g_1} \\frac{f_2}{g_2}$$\n",
      "\n",
      "$$g_1 = p(w|z_{-ij})$$\n",
      "\n",
      "$$g_2 = p(z_{-ij})$$\n",
      "\n",
      "$g_1$, resp. $g_2$ are similar to $f_1$, resp. $f_2$ except that we don't count the assignment $z_{ij}=k$, i.e.\n",
      "\n",
      "$$g_1 = k_1 (\\prod_{t\\neq k} \\frac{\\prod_w \\Gamma(n(w,t)+\\beta)}{\\Gamma(n(t)+\\beta W)}) \\frac{(\\prod_{w\\neq w_{ij}} \\Gamma(n(w,k)+\\beta))\\Gamma(n(w_{ij},k)-1 +\\beta)}{\\Gamma(n(k)-1+\\beta W)}$$\n",
      "\n",
      "Consequently:\n",
      "\n",
      "$$ \\frac{f_1}{g_1} = \\frac{\\Gamma(n(w_{ij},k)+\\beta)}{\\Gamma(n(k)+\\beta W)} \\frac{\\Gamma(n(k)-1+\\beta W)}{\\Gamma(n(w_{ij},k)-1 +\\beta)} = \\frac{n(w_{ij},k)-1+ \\beta}{n(k)-1+\\beta W} $$\n",
      "\n",
      "Similarly:\n",
      "\n",
      "$$g_2 = k_2 ( \\prod_{d\\neq i} \\frac{\\prod_t \\Gamma(n(d,t)+\\alpha)}{\\Gamma(n(d)+\\alpha T)} ) \\frac{ (\\prod_{t \\neq k} \\Gamma(n(i,t)+\\alpha)) \\Gamma(n(i,k)-1+\\alpha)}{\\Gamma(n(i)-1+\\alpha T)}$$\n",
      "\n",
      "Then:\n",
      "\n",
      "$$ \\frac{f_2}{g_2} = \\frac{\\Gamma(n(i,k)+\\alpha)}{\\Gamma(n(i)+\\alpha T)} \\frac{\\Gamma(n(i)-1+\\alpha T)}{\\Gamma(n(i,k)-1+\\alpha)} = \\frac{n(i,k)-1+\\alpha}{n(i)-1+\\alpha T} $$\n",
      "\n",
      "Finally, the update is:\n",
      "\n",
      "$$P(z_{ij}=k | z_{-ij}, w) \\varpropto \\frac{n(w_{ij},k)-1+ \\beta}{n(k)-1+\\beta W}\\frac{n(i,k)-1+\\alpha}{n(i)-1+\\alpha T}$$\n",
      "\n",
      "We compute this value for all $k = \\lbrace 1, \\dots, T\\rbrace$, and sample:\n",
      "\n",
      "$$z^{(next)}_{ij} \\sim Cat(P'(z_{ij}| z_{-ij}, w))$$\n",
      "\n",
      "We use $P'$ to indicate that the parameters of the conditional should be normalized.\n"
     ]
    },
    {
     "cell_type": "markdown",
     "metadata": {},
     "source": [
      "### A Remark on Notation\n",
      "\n",
      "This notation is not used in presentations of LDA. Instead, it is often preferred to use a notation closer to the data structures of the algorithm. For instance, let us convert our notation to match that of [Probabilistic Topic Models](http://psiexp.ss.uci.edu/research/papers/SteyversGriffithsLSABookFormatted.pdf). They use two matrices:\n",
      "\n",
      "$C^{WT}$ is a $W \\times T$ matrix and an element $C^{WT}_{wk}$ counts the number of times word $w$ has been assigned to topic $k$ excluding the current instance $w_{ij}$. \n",
      "\n",
      "$n(w_{ij},k)-1 = C^{WT}_{w_{ij}k}$. \n",
      "\n",
      "$n(k)-1 = \\sum_{w} C^{WT}_{wk}$\n",
      "\n",
      "$C^{DT}$ is a $D \\times T$ matrix and an element $C^{DT}_{dt}$ counts the number of times topic $t$ has been assigned to a word in document $d$ excluding the current instance $w_{ij}$. \n",
      "\n",
      "$n(i,k)-1 = C^{DT}_{ik}$\n",
      "\n",
      "$n(i)-1 = \\sum_{k} C^{DT}_{ik}$\n",
      "\n",
      "Rewriting the equation for the conditional we obtain the same result as Griffiths and Steyvers:\n",
      "\n",
      "$$P(z_{ij}=k | z_{-ij}, w) \\varpropto \\frac{C^{WT}_{w_{ij}k}+ \\beta}{\\sum_{w} C^{WT}_{wk}+\\beta W}\\frac{C^{DT}_{ik}+\\alpha}{\\sum_{k} C^{DT}_{ik}+\\alpha T}$$"
     ]
    },
    {
     "cell_type": "markdown",
     "metadata": {},
     "source": [
      "##The Sampling Algorithm\n",
      "\n",
      "$z$ = $initialize()$\n",
      "\n",
      "for $it =1, \\dots, maxIt$:\n",
      "\n",
      "&emsp; for $i =1, \\dots, D$:\n",
      "\n",
      "&emsp; &emsp; for $j =1, \\dots, L_i$:\n",
      "\n",
      "&emsp; &emsp; &emsp; $C^{WT}, C^{DT} = update(z, i, j)$\n",
      "\n",
      "&emsp; &emsp; &emsp; sample new $z^{(new)}_{ij} \\sim Cat(P'(z_{ij}| z_{-ij}, w))$\n",
      "\n",
      "&emsp; &emsp; &emsp; $C^{WT}, C^{DT} = update(z, z^{(new)}_{ij})$\n",
      "\n",
      "&emsp; yield $z$\n",
      "\n",
      "$initialize$ simply assigns random topics to the words (or sample $\\theta$ and then $z$). $update$ updates the count matrices based on the assignment $z$, and the current instance $i,j$. The update before the sample will decrement $C^{WT}_{w_{ij},z^{(old)}_{ij}}$ and $C^{DT}_{i,z^{(old)}_{ij}}$ and after the sample we will increment $C^{WT}_{w_{ij},z^{(new)}_{ij}}$ and $C^{DT}_{i,z^{(new)}_{ij}}$."
     ]
    },
    {
     "cell_type": "markdown",
     "metadata": {},
     "source": [
      "## Uncollapsing $\\phi$ and $\\theta$\n",
      "\n",
      "The sampler returns a set of assignments of topics to the words. However, we are interested in $\\phi$ and possibly $\\theta$, which we have integrated out (or collapsed). We can recover them using:\n",
      "\n",
      "$$\\phi'_t(w) = \\frac{C^{WT}_{wt}+ \\beta}{\\sum_{w} C^{WT}_{wt}+\\beta W}$$\n",
      "\n",
      "$$\\theta'_d(t) = \\frac{C^{DT}_{dt}+\\alpha}{\\sum_{t} C^{DT}_{dt}+\\alpha T}$$"
     ]
    }
   ],
   "metadata": {}
  }
 ]
}