{
 "metadata": {
  "name": "",
  "signature": "sha256:2cb62c19c8ba01e11a04bdb458b50e2c56ec809d7bc71c2da998c6ca7afcbbb8"
 },
 "nbformat": 3,
 "nbformat_minor": 0,
 "worksheets": [
  {
   "cells": [
    {
     "cell_type": "code",
     "collapsed": false,
     "input": [
      "# Utils\n",
      "from scipy.stats import bernoulli                                               \n",
      "from scipy.stats import beta                                                    \n",
      "import matplotlib.pyplot as plt                                                 \n",
      "import numpy as np                                                              \n",
      "from numpy.random import multinomial                                            \n",
      "from numpy.random import dirichlet\n",
      "%matplotlib inline"
     ],
     "language": "python",
     "metadata": {},
     "outputs": [],
     "prompt_number": 1
    },
    {
     "cell_type": "markdown",
     "metadata": {},
     "source": [
      "# LDA Sampling tutorial using Aprob"
     ]
    },
    {
     "cell_type": "code",
     "collapsed": false,
     "input": [
      "# 25  word vocabulary                                                           \n",
      "W = 25                                                                          \n",
      "# image size                                                                    \n",
      "L = np.sqrt(W)                                                                  \n",
      "# 10 topics                                                                     \n",
      "T = 10                                                                          \n",
      "# 100 documents                                                                 \n",
      "D = 100                                                                         \n",
      "# 10 words per document                                                         \n",
      "N = 15                                                                          \n",
      "                                                                                \n",
      "# phi is given as the horizontal and vertical topics on the 5X5 images          \n",
      "phi = [np.zeros((L, L)) for i in range(T)]                                      \n",
      "line = 0                                                                        \n",
      "for phi_t in phi:                                                               \n",
      "    if line >= L:                                                               \n",
      "        trueLine = int(line - L)                                                \n",
      "        phi_t[:,trueLine] = 1/L*np.ones(L)                                      \n",
      "    else:                                                                       \n",
      "        phi_t[line] = 1/L*np.ones(L)                                            \n",
      "    line += 1"
     ],
     "language": "python",
     "metadata": {},
     "outputs": [],
     "prompt_number": 2
    },
    {
     "cell_type": "code",
     "collapsed": false,
     "input": [
      "# plot the topics                                                               \n",
      "f, axs = plt.subplots(1,T+1,figsize=(15,1))                                     \n",
      "ax = axs[0]                                                                     \n",
      "ax.text(0,0.4, \"Topics: \", fontsize = 16)                                       \n",
      "ax.axis(\"off\")                                                                  \n",
      "ax.get_yaxis().set_visible(False)                                               \n",
      "ax.get_xaxis().set_visible(False)                                               \n",
      "for (ax, (i,phi_t)) in zip(axs[1:], enumerate(phi)):                            \n",
      "    ax.get_yaxis().set_visible(False)                                           \n",
      "    ax.get_xaxis().set_visible(False)                                           \n",
      "    ax.imshow(phi_t, interpolation='none', cmap='Greys_r')                      \n",
      "f.savefig('phi_train.png', format='png')"
     ],
     "language": "python",
     "metadata": {},
     "outputs": [
      {
       "metadata": {},
       "output_type": "display_data",
       "png": "[encoded data removed]",
       "text": [
        "<matplotlib.figure.Figure at 0x7fe66f663e10>"
       ]
      }
     ],
     "prompt_number": 3
    },
    {
     "cell_type": "code",
     "collapsed": false,
     "input": [
      "# sample theta from alpha = 1                                                   \n",
      "theta = [dirichlet(np.ones(T)) for i in range(D)]                               \n",
      "\n",
      "# sample documents from theta and phi  \n",
      "B = []                                                                          \n",
      "for d in range(D):                                                              \n",
      "    doc = np.zeros(W)                                                           \n",
      "    theta_sample = multinomial(N, theta[d])                                     \n",
      "    for t,count in enumerate(theta_sample):                                     \n",
      "        doc += multinomial(count, phi[int(t)].flatten())                        \n",
      "    doc = doc.reshape(L,L)                                                      \n",
      "    B.append(doc)                                                               \n",
      "                                                                                \n",
      "words = []                                                                      \n",
      "for b in B:                                                                     \n",
      "    doc = []                                                                    \n",
      "    for idx,el in enumerate(b.flatten()):                                       \n",
      "        doc += [idx]*el                                                         \n",
      "    words += doc"
     ],
     "language": "python",
     "metadata": {},
     "outputs": [],
     "prompt_number": 4
    },
    {
     "cell_type": "code",
     "collapsed": false,
     "input": [
      "# write Aprob file\n",
      "with open('../in/lda_artificial.pl', 'w') as fout:                                    \n",
      "    fout.write('% docs\\n')                                                      \n",
      "    for d in range(D):                                                          \n",
      "        fout.write('doc(d{}).\\n'.format(d))                                     \n",
      "    fout.write('% words\\n')                                                     \n",
      "    for w in set(words):                                                        \n",
      "        fout.write('word(w{}).\\n'.format(w))                                    \n",
      "    fout.write('% topics\\n')                                                    \n",
      "    for t in range(T):                                                          \n",
      "        fout.write('topic(t{}).\\n'.format(t))                                   \n",
      "    fout.write('% data\\n')                                                      \n",
      "    for d in range(D):                                                          \n",
      "        word_list = map(lambda x: 'w{}'.format(x),                              \n",
      "            words[d*N:d*N+N])                                                   \n",
      "        str_word_list = '['+','.join(word_list)+']'                             \n",
      "        fout.write('observe(d{}, {}).\\n'.format(d, str_word_list))              \n",
      "    fout.write('% prob distribs\\n')                                             \n",
      "    fout.write(('aprob_dirichlet_share({}, D, theta(T,D)) :-'+                  \n",
      "        'topic(T), doc(D).\\n').format(list(np.ones(T))))                        \n",
      "    fout.write(('aprob_dirichlet_share({}, T, phi(W,T)) :-'+                    \n",
      "        'word(W), topic(T).\\n').format(list(np.ones(W))))\n",
      "    fout.write('''                                                              \n",
      "% aprob flags                                                                   \n",
      "%:- set_value(dbg_read,2).                                                      \n",
      "%:- set_value(dbg_query,2).                                                     \n",
      "%:- set_value(dbg_write,2).                                                     \n",
      "                                                                                \n",
      "% template for lda                                                              \n",
      "%lda :-                                                                         \n",
      "%    theta(T,d0),                                                               \n",
      "%    phi(w0,T).                                                                 \n",
      "                                                                                \n",
      "% plate iterator                                                                \n",
      "% aprob_plate(+IteratorQuery, +PlateQuery)                                      \n",
      "% IteratorQuery - query that iterates through plates                            \n",
      "% PlateQuery - plate specific query                                             \n",
      "aprob_plate([observe(D, WordList), member(Word, WordList)],                     \n",
      "    [theta(T,D),phi(Word,T)]).''')"
     ],
     "language": "python",
     "metadata": {},
     "outputs": [],
     "prompt_number": 5
    },
    {
     "cell_type": "code",
     "collapsed": false,
     "input": [
      "%%bash\n",
      "cat ../in/lda_query.pl\n",
      "echo 'This is the query file we use to run Aprob (the logical inference part).'"
     ],
     "language": "python",
     "metadata": {},
     "outputs": [
      {
       "output_type": "stream",
       "stream": "stdout",
       "text": [
        "% load the Aprob prolog file\n",
        ":- ['../src/aprob.pl'].\n",
        "% load the input file and query\n",
        ":- load_and_query_aprob('../in/lda_artificial.pl').\n",
        "% stop prolog\n",
        ":- halt.\n",
        "This is the query file we use to run Aprob (the logical inference part).\n"
       ]
      }
     ],
     "prompt_number": 18
    },
    {
     "cell_type": "code",
     "collapsed": false,
     "input": [
      "%%time\n",
      "%%bash\n",
      "sicstus -l ../in/lda_query.pl"
     ],
     "language": "python",
     "metadata": {},
     "outputs": [
      {
       "output_type": "stream",
       "stream": "stderr",
       "text": [
        "% compiling /home/rares/p/aprob/in/lda_query.pl...\n",
        "%  compiling /home/rares/p/aprob/src/aprob.pl...\n",
        "%   module abduction imported into user\n",
        "%   loading /usr/local/sicstus4.2.3/bin/sp-4.2.3/sicstus-4.2.3/library/clpfd.po...\n",
        "%   module clpfd imported into abduction\n",
        "%    loading /usr/local/sicstus4.2.3/bin/sp-4.2.3/sicstus-4.2.3/library/atts.po...\n",
        "%    module attributes imported into clpfd\n",
        "%     loading /usr/local/sicstus4.2.3/bin/sp-4.2.3/sicstus-4.2.3/library/types.po...\n",
        "%     module types imported into attributes\n",
        "%     loaded /usr/local/sicstus4.2.3/bin/sp-4.2.3/sicstus-4.2.3/library/types.po in module types, 0 msec 1424 bytes\n",
        "%    loaded /usr/local/sicstus4.2.3/bin/sp-4.2.3/sicstus-4.2.3/library/atts.po in module attributes, 0 msec 27824 bytes\n",
        "%    loading /usr/local/sicstus4.2.3/bin/sp-4.2.3/sicstus-4.2.3/library/avl.po...\n",
        "%    module avl imported into clpfd\n",
        "%    loaded /usr/local/sicstus4.2.3/bin/sp-4.2.3/sicstus-4.2.3/library/avl.po in module avl, 0 msec 47376 bytes\n",
        "%    loading /usr/local/sicstus4.2.3/bin/sp-4.2.3/sicstus-4.2.3/library/lists.po...\n",
        "%    module lists imported into clpfd\n",
        "%     module types imported into lists\n",
        "%    loaded /usr/local/sicstus4.2.3/bin/sp-4.2.3/sicstus-4.2.3/library/lists.po in module lists, 0 msec 109104 bytes\n",
        "%    loading /usr/local/sicstus4.2.3/bin/sp-4.2.3/sicstus-4.2.3/library/ordsets.po...\n",
        "%    module ordsets imported into clpfd\n",
        "%    loaded /usr/local/sicstus4.2.3/bin/sp-4.2.3/sicstus-4.2.3/library/ordsets.po in module ordsets, 0 msec 37248 bytes\n",
        "%    loading /usr/local/sicstus4.2.3/bin/sp-4.2.3/sicstus-4.2.3/library/trees.po...\n",
        "%    module trees imported into clpfd\n",
        "%    loaded /usr/local/sicstus4.2.3/bin/sp-4.2.3/sicstus-4.2.3/library/trees.po in module trees, 0 msec 9856 bytes\n",
        "%    module types imported into clpfd\n",
        "%    loading /usr/local/sicstus4.2.3/bin/sp-4.2.3/sicstus-4.2.3/library/samsort.po...\n",
        "%    module samsort imported into clpfd\n",
        "%    loaded /usr/local/sicstus4.2.3/bin/sp-4.2.3/sicstus-4.2.3/library/samsort.po in module samsort, 0 msec 21424 bytes\n",
        "%    loading /usr/local/sicstus4.2.3/bin/sp-4.2.3/sicstus-4.2.3/library/timeout.po...\n",
        "%    module timeout imported into clpfd\n",
        "%     module types imported into timeout\n",
        "%     loading foreign resource /usr/local/sicstus4.2.3/bin/sp-4.2.3/sicstus-4.2.3/library/x86_64-linux-glibc2.7/timeout.so in module timeout\n",
        "%    loaded /usr/local/sicstus4.2.3/bin/sp-4.2.3/sicstus-4.2.3/library/timeout.po in module timeout, 0 msec 12320 bytes\n",
        "%    loading foreign resource /usr/local/sicstus4.2.3/bin/sp-4.2.3/sicstus-4.2.3/library/x86_64-linux-glibc2.7/clpfd.so in module clpfd\n",
        "%   loaded /usr/local/sicstus4.2.3/bin/sp-4.2.3/sicstus-4.2.3/library/clpfd.po in module clpfd, 20 msec 1812320 bytes\n",
        "%   loading /usr/local/sicstus4.2.3/bin/sp-4.2.3/sicstus-4.2.3/library/clpr.po...\n",
        "%   module clpr imported into abduction\n",
        "%    module arith_r imported into clpr\n",
        "%    module types imported into arith_r\n",
        "%    module types imported into clpr\n",
        "%    module attributes imported into clpr\n",
        "%    module geler_r imported into clpr\n",
        "%    module attributes imported into geler_r\n",
        "%    module nfr imported into clpr\n",
        "%    module arith_r imported into nfr\n",
        "%    module clpr imported into nfr\n",
        "%    module types imported into nfr\n",
        "%    loading /usr/local/sicstus4.2.3/bin/sp-4.2.3/sicstus-4.2.3/library/terms.po...\n",
        "%    module terms imported into nfr\n",
        "%     module types imported into terms\n",
        "%     module avl imported into terms\n",
        "%    loaded /usr/local/sicstus4.2.3/bin/sp-4.2.3/sicstus-4.2.3/library/terms.po in module terms, 0 msec 40752 bytes\n",
        "%    module geler_r imported into nfr\n",
        "%    module classr imported into clpr\n",
        "%    module clpr imported into classr\n",
        "%    module types imported into classr\n",
        "%    loading /usr/local/sicstus4.2.3/bin/sp-4.2.3/sicstus-4.2.3/library/ugraphs.po...\n",
        "%    module ugraphs imported into classr\n",
        "%     module ordsets imported into ugraphs\n",
        "%     module lists imported into ugraphs\n",
        "%     module avl imported into ugraphs\n",
        "%     loading /usr/local/sicstus4.2.3/bin/sp-4.2.3/sicstus-4.2.3/library/random.po...\n",
        "%     module random imported into ugraphs\n",
        "%      module types imported into random\n",
        "%      loading foreign resource /usr/local/sicstus4.2.3/bin/sp-4.2.3/sicstus-4.2.3/library/x86_64-linux-glibc2.7/random.so in module random\n",
        "%     loaded /usr/local/sicstus4.2.3/bin/sp-4.2.3/sicstus-4.2.3/library/random.po in module random, 10 msec 23520 bytes\n",
        "%     module types imported into ugraphs\n",
        "%    loaded /usr/local/sicstus4.2.3/bin/sp-4.2.3/sicstus-4.2.3/library/ugraphs.po in module ugraphs, 10 msec 76624 bytes\n",
        "%    module attributes imported into classr\n",
        "%    module ordsets imported into clpr\n",
        "%    module terms imported into clpr\n",
        "%    loading /usr/local/sicstus4.2.3/bin/sp-4.2.3/sicstus-4.2.3/library/assoc3.po...\n",
        "%    module assoc3 imported into clpr\n",
        "%     module avl imported into assoc3\n",
        "%    loaded /usr/local/sicstus4.2.3/bin/sp-4.2.3/sicstus-4.2.3/library/assoc3.po in module assoc3, 0 msec 11664 bytes\n",
        "%   loaded /usr/local/sicstus4.2.3/bin/sp-4.2.3/sicstus-4.2.3/library/clpr.po in module clpr, 10 msec 668336 bytes\n",
        "%   module attributes imported into abduction\n",
        "%   module ordsets imported into abduction\n",
        "%   module terms imported into abduction\n",
        "%   module lists imported into abduction\n",
        "%   loading /usr/local/sicstus4.2.3/bin/sp-4.2.3/sicstus-4.2.3/library/sets.po...\n",
        "%   module sets imported into abduction\n",
        "%    module lists imported into sets\n",
        "%   loaded /usr/local/sicstus4.2.3/bin/sp-4.2.3/sicstus-4.2.3/library/sets.po in module sets, 0 msec 20640 bytes\n",
        "%   loading /usr/local/sicstus4.2.3/bin/sp-4.2.3/sicstus-4.2.3/library/process.po...\n",
        "%   module process imported into abduction\n",
        "%   loaded /usr/local/sicstus4.2.3/bin/sp-4.2.3/sicstus-4.2.3/library/process.po in module process, 0 msec 4976 bytes\n",
        "%   loading /usr/local/sicstus4.2.3/bin/sp-4.2.3/sicstus-4.2.3/library/file_systems.po...\n",
        "%   module file_systems imported into abduction\n",
        "%    module types imported into file_systems\n",
        "%    loading /usr/local/sicstus4.2.3/bin/sp-4.2.3/sicstus-4.2.3/library/system.po...\n",
        "%    module system imported into file_systems\n",
        "%     module types imported into system\n",
        "%    loaded /usr/local/sicstus4.2.3/bin/sp-4.2.3/sicstus-4.2.3/library/system.po in module system, 0 msec 4288 bytes\n",
        "%    module lists imported into file_systems\n",
        "%   loaded /usr/local/sicstus4.2.3/bin/sp-4.2.3/sicstus-4.2.3/library/file_systems.po in module file_systems, 0 msec 47936 bytes\n",
        "%   module timeout imported into abduction\n",
        "%   module system imported into abduction\n",
        "* [F,L2,LNew,L2New,Paths,Time3,L2NoNegNew,AbdOrder,AbdOrderNew,PathsNew,L2NoNeg] - singleton variables\n",
        "* Approximate lines: 3197-3308, file: '/home/rares/p/aprob/src/aprob.pl'\n",
        "%  compiled /home/rares/p/aprob/src/aprob.pl in module abduction, 300 msec 3833072 bytes\n",
        "% compiled /home/rares/p/aprob/in/lda_query.pl in module user, 28580 msec 9044800 bytes\n"
       ]
      },
      {
       "output_type": "stream",
       "stream": "stdout",
       "text": [
        "CPU times: user 8 ms, sys: 0 ns, total: 8 ms\n",
        "Wall time: 29.4 s\n"
       ]
      }
     ],
     "prompt_number": 4
    },
    {
     "cell_type": "code",
     "collapsed": false,
     "input": [
      "# Ok, now we use the rest of the Aprob pipeline to:\n",
      "# 1. Parse the Formula (and the other files)\n",
      "from formula_gen import Formula                                         \n",
      "option_args = {                                                         \n",
      "    'probs_file'    : '../out/out.probs',                               \n",
      "    'sat_file'      : '../out/out.sat',                                 \n",
      "    'plate_file'    : '../out/out.plate'                                \n",
      "}                                                                       \n",
      "option = 'read_sat'                                                     \n",
      "fr = Formula(option, option_args)                                       \n",
      "fr.formula.to_formula()"
     ],
     "language": "python",
     "metadata": {},
     "outputs": [
      {
       "metadata": {},
       "output_type": "pyout",
       "prompt_number": 2,
       "text": [
        "'((10&1)|((11&2)&~1)|((12&3)&(~1&~2))|((13&4)&(~1&~2&~3))|((14&5)&(~1&~2&~3&~4))|((15&6)&(~1&~2&~3&~4&~5))|((16&7)&(~1&~2&~3&~4&~5&~6))|((17&8)&(~1&~2&~3&~4&~5&~6&~7))|((18&9)&(~1&~2&~3&~4&~5&~6&~7&~8))|(19&(~1&~2&~3&~4&~5&~6&~7&~8&~9))|(10&1)|((11&2)&~1)|((12&3)&(~1&~2))|((13&4)&(~1&~2&~3))|((14&5)&(~1&~2&~3&~4))|((15&6)&(~1&~2&~3&~4&~5))|((16&7)&(~1&~2&~3&~4&~5&~6))|((17&8)&(~1&~2&~3&~4&~5&~6&~7))|((18&9)&(~1&~2&~3&~4&~5&~6&~7&~8))|(19&(~1&~2&~3&~4&~5&~6&~7&~8&~9))|(10&1)|((11&2)&~1)|((12&3)&(~1&~2))|((13&4)&(~1&~2&~3))|((14&5)&(~1&~2&~3&~4))|((15&6)&(~1&~2&~3&~4&~5))|((16&7)&(~1&~2&~3&~4&~5&~6))|((17&8)&(~1&~2&~3&~4&~5&~6&~7))|((18&9)&(~1&~2&~3&~4&~5&~6&~7&~8))|(19&(~1&~2&~3&~4&~5&~6&~7&~8&~9)))'"
       ]
      }
     ],
     "prompt_number": 2
    },
    {
     "cell_type": "code",
     "collapsed": false,
     "input": [
      "# 2. Compile it to a BDD\n",
      "from knowledge_compilation import BDD                                   \n",
      "bdd = BDD(option='pycudd', formula = fr.formula)                        \n",
      "bdd.compile()"
     ],
     "language": "python",
     "metadata": {},
     "outputs": [],
     "prompt_number": 3
    },
    {
     "cell_type": "code",
     "collapsed": false,
     "input": [
      "%%time\n",
      "# 3. Perform sampling on the BDD plate\n",
      "from prob_inference import PyCUDDInference                                                                    \n",
      "inf = PyCUDDInference(bdd)                                              \n",
      "gibbs_options = {                                                       \n",
      "    'N': 100                                                            \n",
      "}                                                                                                               \n",
      "inf.gibbs_sampler_plate(gibbs_options)"
     ],
     "language": "python",
     "metadata": {},
     "outputs": [
      {
       "metadata": {},
       "output_type": "display_data",
       "png": "[encoded data removed]",
       "text": [
        "<matplotlib.figure.Figure at 0x7ff2ff997cd0>"
       ]
      }
     ],
     "prompt_number": 4
    },
    {
     "cell_type": "code",
     "collapsed": false,
     "input": [],
     "language": "python",
     "metadata": {},
     "outputs": []
    }
   ],
   "metadata": {}
  }
 ]
}